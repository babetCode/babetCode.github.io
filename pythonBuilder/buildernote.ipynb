{
 "cells": [
  {
   "cell_type": "code",
   "execution_count": null,
   "metadata": {},
   "outputs": [],
   "source": [
    "index_pages = {\"Projects\":}"
   ]
  },
  {
   "cell_type": "code",
   "execution_count": null,
   "metadata": {},
   "outputs": [
    {
     "name": "stdout",
     "output_type": "stream",
     "text": [
      "<header id=\"main-header\">\n",
      "    <a href=\"#\">\n",
      "        <img src=\"images/AdrienWebLogo.png\" alt=\"logo\" id=\"mainheaderlogo\">\n",
      "    </a>\n",
      "    <div id=\"hamburger\">\n",
      "        <div></div>\n",
      "        <div></div>\n",
      "        <div></div>\n",
      "    </div>\n",
      "    <div id=\"dropdown-menu\">\n",
      "        <a href=\"html/aboutpage.html\">About</a>\n",
      "        <a href=\"html/menupage.html\">Menu</a>\n",
      "        <a href=\"html/locationspage.html\">Locations</a>\n",
      "        <a href=\"html/employmentpage.html\">Employment</a>\n",
      "        <a href=\"html/contactpage.html\">Contact</a>\n",
      "        <a href=\"html/storypage.html\">Our Story</a>\n",
      "    </div>\n",
      "    <ul>\n",
      "        <li>\n",
      "            <a href=\"html/aboutpage.html\">Projects</a>\n",
      "        </li>\n",
      "        <li>\n",
      "            <a href=\"html/menupage.html\">Skills</a>\n",
      "        </li>\n",
      "    </ul>\n",
      "    <div id=\"socials\">\n",
      "        <a href=\"https://github.com/babetCode\" target=\"_blank\">\n",
      "            <img src=\"images/github.png\" alt=\"facebook\">\n",
      "        </a>\n",
      "        <a href=\"https://www.instagram.com/adrien.babet/?hl=en\" target=\"_blank\">\n",
      "            <img src=\"images/instagram.png\" alt=\"instagram\">\n",
      "        </a>\n",
      "    </div>\n",
      "</header>\n"
     ]
    },
    {
     "data": {
      "text/plain": [
       "1"
      ]
     },
     "execution_count": 7,
     "metadata": {},
     "output_type": "execute_result"
    }
   ],
   "source": [
    "def build_header(header_logo, pages):\n",
    "    drop_items = '''<a href=\"html/aboutpage.html\">About</a>\n",
    "        <a href=\"html/menupage.html\">Menu</a>\n",
    "        <a href=\"html/locationspage.html\">Locations</a>\n",
    "        <a href=\"html/employmentpage.html\">Employment</a>\n",
    "        <a href=\"html/contactpage.html\">Contact</a>\n",
    "        <a href=\"html/storypage.html\">Our Story</a>'''\n",
    "\n",
    "    page_items = f'''<li>\n",
    "            <a href=\"html/aboutpage.html\">Projects</a>\n",
    "        </li>\n",
    "        <li>\n",
    "            <a href=\"html/menupage.html\">Skills</a>\n",
    "        </li>'''\n",
    "\n",
    "    base_text = f'''<header id=\"main-header\">\n",
    "    <a href=\"#\">\n",
    "        <img src=\"{header_logo}\" alt=\"logo\" id=\"mainheaderlogo\">\n",
    "    </a>\n",
    "    <div id=\"hamburger\">\n",
    "        <div></div>\n",
    "        <div></div>\n",
    "        <div></div>\n",
    "    </div>\n",
    "    <div id=\"dropdown-menu\">\n",
    "        {drop_items}\n",
    "    </div>\n",
    "    <ul>\n",
    "        {page_items}\n",
    "    </ul>\n",
    "    <div id=\"socials\">\n",
    "        <a href=\"https://github.com/babetCode\" target=\"_blank\">\n",
    "            <img src=\"images/github.png\" alt=\"facebook\">\n",
    "        </a>\n",
    "        <a href=\"https://www.instagram.com/adrien.babet/?hl=en\" target=\"_blank\">\n",
    "            <img src=\"images/instagram.png\" alt=\"instagram\">\n",
    "        </a>\n",
    "    </div>\n",
    "</header>'''\n",
    "    print(base_text)\n",
    "    return 1\n",
    "\n",
    "build_header(\"images/AdrienWebLogo.png\",1)"
   ]
  }
 ],
 "metadata": {
  "kernelspec": {
   "display_name": "note_env",
   "language": "python",
   "name": "python3"
  },
  "language_info": {
   "codemirror_mode": {
    "name": "ipython",
    "version": 3
   },
   "file_extension": ".py",
   "mimetype": "text/x-python",
   "name": "python",
   "nbconvert_exporter": "python",
   "pygments_lexer": "ipython3",
   "version": "3.12.3"
  }
 },
 "nbformat": 4,
 "nbformat_minor": 2
}
