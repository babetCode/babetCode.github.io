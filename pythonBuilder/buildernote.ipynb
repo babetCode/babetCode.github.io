{
 "cells": [
  {
   "cell_type": "code",
   "execution_count": null,
   "metadata": {},
   "outputs": [
    {
     "name": "stdout",
     "output_type": "stream",
     "text": [
      "<ul>\n",
      "    <li>\n",
      "        <a href=\"html/projects.html\">Projects</a>\n",
      "    </li>\n",
      "    <li>\n",
      "        <a href=\"html/skills.html\">Skills</a>\n",
      "    </li>\n",
      "</ul>\n"
     ]
    }
   ],
   "source": [
    "import textwrap\n",
    "tab4=\"    \"\n",
    "test_items = f'''<li>\n",
    "    <a href=\"html/projects.html\">Projects</a>\n",
    "</li>\n",
    "<li>\n",
    "    <a href=\"html/skills.html\">Skills</a>\n",
    "</li>'''\n",
    "test_list = f'''<ul>\n",
    "{textwrap.indent(test_items, '    ')}\n",
    "</ul>'''\n",
    "print(test_list)"
   ]
  },
  {
   "cell_type": "code",
   "execution_count": null,
   "metadata": {},
   "outputs": [
    {
     "name": "stdout",
     "output_type": "stream",
     "text": [
      "Projects\n",
      "Skills\n"
     ]
    }
   ],
   "source": [
    "nav_pages = {\"Projects\": \"../html/projects.html\", \"Skills\": \"../html/skills.html\"}\n",
    "for page in page_dict:\n",
    "    print(page)"
   ]
  },
  {
   "cell_type": "code",
   "execution_count": 36,
   "metadata": {},
   "outputs": [
    {
     "name": "stdout",
     "output_type": "stream",
     "text": [
      "<ul>\n",
      "    <li>\n",
      "        <a href=\"../html/projects.html\">Projects</a>\n",
      "    </li>\n",
      "    <li>\n",
      "        <a href=\"../html/skills.html\">Skills</a>\n",
      "    </li>\n",
      "</ul>\n"
     ]
    }
   ],
   "source": [
    "import textwrap\n",
    "tab4=\"    \"\n",
    "nav_pages = {\"Projects\": \"../html/projects.html\", \"Skills\": \"../html/skills.html\"}\n",
    "def nav_ul(page_dict):\n",
    "    nav_page_ul = \"<ul>\\n\"\n",
    "    for page in page_dict:\n",
    "        nav_page_ul+=f'{tab4}<li>\\n{tab4*2}<a href=\"{page_dict[page]}\">{page}</a>\\n{tab4}</li>\\n'\n",
    "    nav_page_ul+='</ul>'\n",
    "    return nav_page_ul\n",
    "print(nav_ul(nav_pages))"
   ]
  },
  {
   "cell_type": "code",
   "execution_count": 29,
   "metadata": {},
   "outputs": [
    {
     "name": "stdout",
     "output_type": "stream",
     "text": [
      "1        1\n",
      "h123456789\n"
     ]
    }
   ],
   "source": [
    "print(f'1{tab4*2}1')\n",
    "print(\"h123456789\")"
   ]
  },
  {
   "cell_type": "code",
   "execution_count": null,
   "metadata": {},
   "outputs": [
    {
     "name": "stdout",
     "output_type": "stream",
     "text": [
      "<header id=\"main-header\">\n",
      "    <a href=\"#\">\n",
      "        <img src=\"images/AdrienWebLogo.png\" alt=\"logo\" id=\"mainheaderlogo\">\n",
      "    </a>\n",
      "    <div id=\"hamburger\">\n",
      "        <div></div>\n",
      "        <div></div>\n",
      "        <div></div>\n",
      "    </div>\n",
      "    <div id=\"dropdown-menu\">\n",
      "        <a href=\"html/aboutpage.html\">About</a>\n",
      "        <a href=\"html/menupage.html\">Menu</a>\n",
      "        <a href=\"html/locationspage.html\">Locations</a>\n",
      "        <a href=\"html/employmentpage.html\">Employment</a>\n",
      "        <a href=\"html/contactpage.html\">Contact</a>\n",
      "        <a href=\"html/storypage.html\">Our Story</a>\n",
      "    </div>\n",
      "    <ul>\n",
      "        <li>\n",
      "            <a href=\"html/aboutpage.html\">Projects</a>\n",
      "        </li>\n",
      "        <li>\n",
      "            <a href=\"html/menupage.html\">Skills</a>\n",
      "        </li>\n",
      "    </ul>\n",
      "    <div id=\"socials\">\n",
      "        <a href=\"https://github.com/babetCode\" target=\"_blank\">\n",
      "            <img src=\"images/github.png\" alt=\"facebook\">\n",
      "        </a>\n",
      "        <a href=\"https://www.instagram.com/adrien.babet/?hl=en\" target=\"_blank\">\n",
      "            <img src=\"images/instagram.png\" alt=\"instagram\">\n",
      "        </a>\n",
      "    </div>\n",
      "</header>\n"
     ]
    },
    {
     "data": {
      "text/plain": [
       "1"
      ]
     },
     "execution_count": 7,
     "metadata": {},
     "output_type": "execute_result"
    }
   ],
   "source": [
    "def build_header(header_logo, page_dict):\n",
    "    tab4=\"    \"\n",
    "    def nav_ul(page_dict):\n",
    "        nav_page_ul = \"<ul>\\n\"\n",
    "        for page in page_dict:\n",
    "            nav_page_ul+=f'{tab4}<li>\\n{tab4*2}<a href=\"{page_dict[page]}\">{page}</a>\\n{tab4}</li>\\n'\n",
    "        nav_page_ul+='</ul>'\n",
    "        return nav_page_ul\n",
    "    \n",
    "    drop_items = '''<a href=\"html/aboutpage.html\">About</a>\n",
    "        <a href=\"html/menupage.html\">Menu</a>\n",
    "        <a href=\"html/locationspage.html\">Locations</a>\n",
    "        <a href=\"html/employmentpage.html\">Employment</a>\n",
    "        <a href=\"html/contactpage.html\">Contact</a>\n",
    "        <a href=\"html/storypage.html\">Our Story</a>'''\n",
    "\n",
    "    page_items = f'''<li>\n",
    "            <a href=\"html/aboutpage.html\">Projects</a>\n",
    "        </li>\n",
    "        <li>\n",
    "            <a href=\"html/menupage.html\">Skills</a>\n",
    "        </li>'''\n",
    "\n",
    "    base_text = f'''<header id=\"main-header\">\n",
    "    <a href=\"#\">\n",
    "        <img src=\"{header_logo}\" alt=\"logo\" id=\"mainheaderlogo\">\n",
    "    </a>\n",
    "    <div id=\"hamburger\">\n",
    "        <div></div>\n",
    "        <div></div>\n",
    "        <div></div>\n",
    "    </div>\n",
    "    <div id=\"dropdown-menu\">\n",
    "        {drop_items}\n",
    "    </div>\n",
    "    <ul>\n",
    "        {page_items}\n",
    "    </ul>\n",
    "    <div id=\"socials\">\n",
    "        <a href=\"https://github.com/babetCode\" target=\"_blank\">\n",
    "            <img src=\"images/github.png\" alt=\"facebook\">\n",
    "        </a>\n",
    "        <a href=\"https://www.instagram.com/adrien.babet/?hl=en\" target=\"_blank\">\n",
    "            <img src=\"images/instagram.png\" alt=\"instagram\">\n",
    "        </a>\n",
    "    </div>\n",
    "</header>'''\n",
    "    print(base_text)\n",
    "    return 1\n",
    "\n",
    "build_header(\"images/AdrienWebLogo.png\",1)"
   ]
  }
 ],
 "metadata": {
  "kernelspec": {
   "display_name": "note_env",
   "language": "python",
   "name": "python3"
  },
  "language_info": {
   "codemirror_mode": {
    "name": "ipython",
    "version": 3
   },
   "file_extension": ".py",
   "mimetype": "text/x-python",
   "name": "python",
   "nbconvert_exporter": "python",
   "pygments_lexer": "ipython3",
   "version": "3.12.3"
  }
 },
 "nbformat": 4,
 "nbformat_minor": 2
}
